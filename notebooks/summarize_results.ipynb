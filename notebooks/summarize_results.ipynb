{
 "cells": [
  {
   "cell_type": "code",
   "execution_count": 2,
   "id": "affb0c12",
   "metadata": {},
   "outputs": [],
   "source": [
    "wer_by_group = {'region': {'North': 19.339677158377317, 'Central': 22.965806353856255, 'South': 22.262114107073074}, 'province': {'CaoBang': 20.13953488372093, 'LangSon': 21.726041144004014, 'QuangNinh': 17.64992686494393, 'HaiPhong': 20.217391304347824, 'ThaiBinh': 16.65150136487716, 'NamDinh': 18.459495351925632, 'PhuTho': 16.13345521023766, 'ThaiNguyen': 19.419324131366018, 'YenBai': 21.476190476190478, 'TuyenQuang': 20.48780487804878, 'HaGiang': 20.585412667946258, 'LaoCai': 20.021413276231264, 'LaiChau': 18.700787401574804, 'SonLa': 14.935064935064934, 'DienBien': 21.511922881785893, 'HoaBinh': 19.511002444987774, 'HaNoi': 16.998106060606062, 'HaiDuong': 17.757847533632287, 'NinhBinh': 17.614929449248976, 'ThanhHoa': 19.717573221757323, 'NgheAn': 20.588235294117645, 'HaTinh': 27.764815678954736, 'DaNang': 18.508412914961347, 'DakLak': 26.959560659011483, 'DakNong': 19.105882352941176, 'LamDong': 19.399538106235568, 'HoChiMinh': 18.82404563405002, 'DongNai': 18.115942028985508, 'BinhDuong': 17.49669457910974, 'LongAn': 22.873422873422875, 'TienGiang': 23.895862389586238, 'VinhLong': 27.03222703222703, 'CanTho': 26.154702281580413, 'DongThap': 24.04021937842779, 'AnGiang': 20.0, 'KienGiang': 17.193675889328063, 'CaMau': 18.46657316503039, 'TayNinh': 19.93417959567466, 'BenTre': 22.97039159503343, 'BaRiaVungTau': 21.32387706855792, 'QuangBinh': 25.396825396825395, 'QuangTri': 19.001701644923426, 'ThuaThienHue': 24.73007712082262, 'QuangNgai': 32.28764478764479, 'BinhDinh': 24.13945278022948, 'PhuYen': 26.937984496124027, 'KhanhHoa': 19.901960784313726, 'GiaLai': 23.240115718418515, 'KonTum': 26.094781043791244, 'SocTrang': 29.08136482939633, 'TraVinh': 25.937362152624615, 'NinhThuan': 17.364341085271317, 'BinhThuan': 25.42885973763875, 'VinhPhuc': 22.830828889966067, 'HungYen': 24.75149105367793, 'HaNam': 19.44739638682253, 'QuangNam': 19.893771125060358, 'BinhPhuoc': 23.919079730265768, 'BacLieu': 24.66091245376079, 'HauGiang': 21.711899791231733, 'BacKan': 20.982355746304243, 'BacGiang': 16.234796404019036, 'BacNinh': 19.774288518155053}, 'gender': {1: 21.85907647511842, 0: 19.988318687445243}}"
   ]
  },
  {
   "cell_type": "code",
   "execution_count": 6,
   "id": "b54f5b13",
   "metadata": {},
   "outputs": [],
   "source": [
    "wer_by_group_whisper_large_v3_turbo = {'region': {'North': 21.235119620911508, 'Central': 27.78928228698419, 'South': 22.623583431027743}, 'province': {'CaoBang': 20.186046511627907, 'LangSon': 20.923231309583542, 'QuangNinh': 27.791321306679666, 'HaiPhong': 23.956521739130434, 'ThaiBinh': 18.016378525932666, 'NamDinh': 18.946436476316954, 'PhuTho': 24.36014625228519, 'ThaiNguyen': 21.037601142313182, 'YenBai': 18.857142857142858, 'TuyenQuang': 19.658536585365855, 'HaGiang': 23.080614203454893, 'LaoCai': 17.612419700214133, 'LaiChau': 17.96259842519685, 'SonLa': 18.73126873126873, 'DienBien': 19.076610857432776, 'HoaBinh': 20.097799511002446, 'HaNoi': 14.535984848484848, 'HaiDuong': 26.41255605381166, 'NinhBinh': 17.023213472917615, 'ThanhHoa': 20.711297071129707, 'NgheAn': 28.544494720965307, 'HaTinh': 34.25104993000467, 'DaNang': 19.82719417917235, 'DakLak': 28.00798801797304, 'DakNong': 23.200000000000003, 'LamDong': 23.371824480369515, 'HoChiMinh': 24.79157525230364, 'DongNai': 17.21014492753623, 'BinhDuong': 15.557514323490523, 'LongAn': 23.32112332112332, 'TienGiang': 23.895862389586238, 'VinhLong': 33.477633477633475, 'CanTho': 35.16972732331664, 'DongThap': 21.617915904936012, 'AnGiang': 22.17721518987342, 'KienGiang': 18.873517786561266, 'CaMau': 15.895278167367929, 'TayNinh': 20.07522331922896, 'BenTre': 19.197707736389685, 'BaRiaVungTau': 25.106382978723403, 'QuangBinh': 35.833333333333336, 'QuangTri': 28.701077708451507, 'ThuaThienHue': 35.526992287917736, 'QuangNgai': 36.14864864864865, 'BinhDinh': 32.082965578111214, 'PhuYen': 32.26744186046512, 'KhanhHoa': 27.941176470588236, 'GiaLai': 17.93635486981678, 'KonTum': 24.83503299340132, 'SocTrang': 31.601049868766406, 'TraVinh': 23.070136744596383, 'NinhThuan': 17.519379844961243, 'BinhThuan': 31.987891019172555, 'VinhPhuc': 30.392632089190496, 'HungYen': 28.479125248508947, 'HaNam': 18.278427205100954, 'QuangNam': 26.55721873491067, 'BinhPhuoc': 22.41174137247124, 'BacLieu': 21.043978627209206, 'HauGiang': 18.528183716075155, 'BacKan': 17.83500238435861, 'BacGiang': 22.633527234267582, 'BacNinh': 24.582924435721296}, 'gender': {1: 25.289854307989323, 0: 19.43080149733188}}"
   ]
  },
  {
   "cell_type": "code",
   "execution_count": 9,
   "id": "9ac1e784",
   "metadata": {},
   "outputs": [],
   "source": [
    "provinces = {}\n",
    "provinces['central'] = [\n",
    "    \n",
    "]"
   ]
  },
  {
   "cell_type": "code",
   "execution_count": 7,
   "id": "941fc242",
   "metadata": {},
   "outputs": [
    {
     "data": {
      "text/html": [
       "<div>\n",
       "<style scoped>\n",
       "    .dataframe tbody tr th:only-of-type {\n",
       "        vertical-align: middle;\n",
       "    }\n",
       "\n",
       "    .dataframe tbody tr th {\n",
       "        vertical-align: top;\n",
       "    }\n",
       "\n",
       "    .dataframe thead th {\n",
       "        text-align: right;\n",
       "    }\n",
       "</style>\n",
       "<table border=\"1\" class=\"dataframe\">\n",
       "  <thead>\n",
       "    <tr style=\"text-align: right;\">\n",
       "      <th></th>\n",
       "      <th>Model</th>\n",
       "      <th>Region_North</th>\n",
       "      <th>Region_Central</th>\n",
       "      <th>Region_South</th>\n",
       "      <th>Gender_Male</th>\n",
       "      <th>Gender_Female</th>\n",
       "      <th>Province_QuangNgai</th>\n",
       "      <th>Province_QuangBinh</th>\n",
       "      <th>Province_ThuaThienHue</th>\n",
       "      <th>Province_CanTho</th>\n",
       "      <th>Province_HaTinh</th>\n",
       "      <th>Province_VinhLong</th>\n",
       "      <th>Province_PhuYen</th>\n",
       "      <th>Province_BinhDinh</th>\n",
       "      <th>Province_BinhThuan</th>\n",
       "      <th>Province_SocTrang</th>\n",
       "    </tr>\n",
       "  </thead>\n",
       "  <tbody>\n",
       "    <tr>\n",
       "      <th>0</th>\n",
       "      <td>openai__whisper-large-v3-turbo</td>\n",
       "      <td>21.23512</td>\n",
       "      <td>27.789282</td>\n",
       "      <td>22.623583</td>\n",
       "      <td>25.289854</td>\n",
       "      <td>19.430801</td>\n",
       "      <td>36.148649</td>\n",
       "      <td>35.833333</td>\n",
       "      <td>35.526992</td>\n",
       "      <td>35.169727</td>\n",
       "      <td>34.25105</td>\n",
       "      <td>33.477633</td>\n",
       "      <td>32.267442</td>\n",
       "      <td>32.082966</td>\n",
       "      <td>31.987891</td>\n",
       "      <td>31.60105</td>\n",
       "    </tr>\n",
       "  </tbody>\n",
       "</table>\n",
       "</div>"
      ],
      "text/plain": [
       "                            Model  Region_North  Region_Central  Region_South  \\\n",
       "0  openai__whisper-large-v3-turbo      21.23512       27.789282     22.623583   \n",
       "\n",
       "   Gender_Male  Gender_Female  Province_QuangNgai  Province_QuangBinh  \\\n",
       "0    25.289854      19.430801           36.148649           35.833333   \n",
       "\n",
       "   Province_ThuaThienHue  Province_CanTho  Province_HaTinh  Province_VinhLong  \\\n",
       "0              35.526992        35.169727         34.25105          33.477633   \n",
       "\n",
       "   Province_PhuYen  Province_BinhDinh  Province_BinhThuan  Province_SocTrang  \n",
       "0        32.267442          32.082966           31.987891           31.60105  "
      ]
     },
     "execution_count": 7,
     "metadata": {},
     "output_type": "execute_result"
    }
   ],
   "source": [
    "import pandas as pd\n",
    "\n",
    "def summarize_metric(metric_by_group: dict, model_name: str = \"model_1\", top_n_province: int = 5):\n",
    "    row = {\"Model\": model_name}\n",
    "    \n",
    "    # Region\n",
    "    for k, v in metric_by_group[\"region\"].items():\n",
    "        row[f\"Region_{k}\"] = v\n",
    "    \n",
    "    # Gender\n",
    "    gender_map = {1: \"Male\", 0: \"Female\"}\n",
    "    for k, v in metric_by_group[\"gender\"].items():\n",
    "        row[f\"Gender_{gender_map[k]}\"] = v\n",
    "    \n",
    "    # Province: lấy top-n có WER cao nhất\n",
    "    top_provinces = sorted(metric_by_group[\"province\"].items(), key=lambda x: -x[1])[:top_n_province]\n",
    "    for prov, val in top_provinces:\n",
    "        row[f\"Province_{prov}\"] = val\n",
    "    \n",
    "    return pd.DataFrame([row])\n",
    "\n",
    "# Ví dụ\n",
    "df_summary = summarize_metric(wer_by_group_whisper_large_v3_turbo, \n",
    "model_name=\"openai__whisper-large-v3-turbo\", \n",
    "top_n_province=10)\n",
    "\n",
    "df_summary"
   ]
  },
  {
   "cell_type": "code",
   "execution_count": null,
   "id": "a1569d7c",
   "metadata": {},
   "outputs": [],
   "source": []
  }
 ],
 "metadata": {
  "kernelspec": {
   "display_name": "asr",
   "language": "python",
   "name": "python3"
  },
  "language_info": {
   "codemirror_mode": {
    "name": "ipython",
    "version": 3
   },
   "file_extension": ".py",
   "mimetype": "text/x-python",
   "name": "python",
   "nbconvert_exporter": "python",
   "pygments_lexer": "ipython3",
   "version": "3.11.0"
  }
 },
 "nbformat": 4,
 "nbformat_minor": 5
}
