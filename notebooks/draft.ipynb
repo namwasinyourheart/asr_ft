{
 "cells": [
  {
   "cell_type": "code",
   "execution_count": 1,
   "id": "4f3ea3ff",
   "metadata": {},
   "outputs": [
    {
     "name": "stdout",
     "output_type": "stream",
     "text": [
      "1 café 2 ABC\n"
     ]
    }
   ],
   "source": [
    "import unicodedata\n",
    "\n",
    "text = \"① café ² ＡＢＣ\"\n",
    "normalized = unicodedata.normalize(\"NFKC\", text)\n",
    "print(normalized)\n"
   ]
  },
  {
   "cell_type": "code",
   "execution_count": 7,
   "id": "45e22756",
   "metadata": {},
   "outputs": [],
   "source": [
    "import string\n",
    "import unicodedata\n",
    "import re\n",
    "\n",
    "def preprocess_text(text):\n",
    "    text = unicodedata.normalize(\"NFKC\", text)  # apply NFKC\n",
    "    text = text.lower()  # convert to uppercase\n",
    "    text = text.replace(\"-\", \" \")  # remove hyphen\n",
    "    text = re.sub(\"[{}]\".format(string.punctuation), \"\", text)  # remove punctuation\n",
    "    # text = re.sub(r\"\\s+\", \"\", text).strip()  # remove all whitespace ONLY for Thai\n",
    "    return text"
   ]
  },
  {
   "cell_type": "code",
   "execution_count": 8,
   "id": "af7f41ca",
   "metadata": {},
   "outputs": [
    {
     "data": {
      "text/plain": [
       "'we standardize by applying nfkc converting all characters to uppercase removing punctuation and merging consecutive whitespace or removing all whitespace from both hypothesis and reference text before cerwer scoring to ensure apple to apple performance comparisons across different toolkits or commercial services'"
      ]
     },
     "execution_count": 8,
     "metadata": {},
     "output_type": "execute_result"
    }
   ],
   "source": [
    "text = \"We standardize by applying NFKC, converting all characters to uppercase, removing punctuation, and merging consecutive whitespace or removing all whitespace from both hypothesis and reference text before CER/WER scoring to ensure apple-to-apple performance comparisons across different toolkits or commercial services.\"\n",
    "preprocess_text(text)"
   ]
  },
  {
   "cell_type": "code",
   "execution_count": 23,
   "id": "ac1c84ce",
   "metadata": {},
   "outputs": [
    {
     "name": "stdout",
     "output_type": "stream",
     "text": [
      "/home/nampv1/projects/vnpost_asr\n"
     ]
    }
   ],
   "source": [
    "cd /home/nampv1/projects/vnpost_asr"
   ]
  },
  {
   "cell_type": "code",
   "execution_count": 25,
   "id": "f418ad26",
   "metadata": {},
   "outputs": [],
   "source": [
    "from src.utils.audio_utils import listen_audio_by_filename"
   ]
  },
  {
   "cell_type": "code",
   "execution_count": null,
   "id": "987dda1b",
   "metadata": {},
   "outputs": [],
   "source": []
  },
  {
   "cell_type": "code",
   "execution_count": 26,
   "id": "fa8b0abd",
   "metadata": {},
   "outputs": [
    {
     "ename": "NameError",
     "evalue": "name 'dataset_split' is not defined",
     "output_type": "error",
     "traceback": [
      "\u001b[31m---------------------------------------------------------------------------\u001b[39m",
      "\u001b[31mNameError\u001b[39m                                 Traceback (most recent call last)",
      "\u001b[36mCell\u001b[39m\u001b[36m \u001b[39m\u001b[32mIn[26]\u001b[39m\u001b[32m, line 2\u001b[39m\n\u001b[32m      1\u001b[39m filename = \u001b[33m'\u001b[39m\u001b[33m11_0308.wav\u001b[39m\u001b[33m'\u001b[39m\n\u001b[32m----> \u001b[39m\u001b[32m2\u001b[39m listen_audio_by_filename(filename, \u001b[43mdataset_split\u001b[49m, split_filename2sid)\n",
      "\u001b[31mNameError\u001b[39m: name 'dataset_split' is not defined"
     ]
    }
   ],
   "source": [
    "filename = '11_0308.wav'\n",
    "listen_audio_by_filename(filename, dataset_split, split_filename2sid)"
   ]
  },
  {
   "cell_type": "code",
   "execution_count": 24,
   "id": "4ed767eb",
   "metadata": {},
   "outputs": [],
   "source": [
    "from datasets import load_dataset"
   ]
  },
  {
   "cell_type": "code",
   "execution_count": null,
   "id": "bdd54035",
   "metadata": {},
   "outputs": [],
   "source": []
  },
  {
   "cell_type": "code",
   "execution_count": 27,
   "id": "5c69e643",
   "metadata": {},
   "outputs": [],
   "source": [
    "from evaluate import load\n",
    "wer_metric = load(\"wer\")\n"
   ]
  },
  {
   "cell_type": "code",
   "execution_count": 28,
   "id": "d589395a",
   "metadata": {},
   "outputs": [
    {
     "name": "stdout",
     "output_type": "stream",
     "text": [
      "1.0\n"
     ]
    }
   ],
   "source": [
    "prediction = [\"đầu\"]\n",
    "label = [\"đâu\"]\n",
    "\n",
    "metric = load(\"wer\")\n",
    "metric.add_batch(predictions=prediction, references=label)\n",
    "print(metric.compute())"
   ]
  },
  {
   "cell_type": "code",
   "execution_count": null,
   "id": "7149da10",
   "metadata": {},
   "outputs": [],
   "source": []
  },
  {
   "cell_type": "code",
   "execution_count": 21,
   "id": "65c8381b",
   "metadata": {},
   "outputs": [
    {
     "name": "stdout",
     "output_type": "stream",
     "text": [
      "0.2\n"
     ]
    }
   ],
   "source": [
    "prediction = [\"hallo\"]\n",
    "label = [\"hello\"]\n",
    "\n",
    "metric = load(\"cer\")\n",
    "metric.add_batch(predictions=prediction, references=label)\n",
    "print(metric.compute())"
   ]
  },
  {
   "cell_type": "code",
   "execution_count": null,
   "id": "457ef0c2",
   "metadata": {},
   "outputs": [],
   "source": []
  }
 ],
 "metadata": {
  "kernelspec": {
   "display_name": "asr",
   "language": "python",
   "name": "python3"
  },
  "language_info": {
   "codemirror_mode": {
    "name": "ipython",
    "version": 3
   },
   "file_extension": ".py",
   "mimetype": "text/x-python",
   "name": "python",
   "nbconvert_exporter": "python",
   "pygments_lexer": "ipython3",
   "version": "3.11.0"
  }
 },
 "nbformat": 4,
 "nbformat_minor": 5
}
